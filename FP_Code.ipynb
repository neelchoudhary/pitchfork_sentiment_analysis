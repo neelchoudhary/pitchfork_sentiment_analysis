{
  "nbformat": 4,
  "nbformat_minor": 0,
  "metadata": {
    "colab": {
      "name": "FP_Code.ipynb",
      "provenance": [],
      "collapsed_sections": [],
      "toc_visible": true
    },
    "kernelspec": {
      "name": "python3",
      "display_name": "Python 3"
    },
    "author": [
      {
        "@type": "Person",
        "name": "Kevin Gold"
      }
    ]
  },
  "cells": [
    {
      "cell_type": "markdown",
      "metadata": {
        "id": "2itSY-L1zv6K"
      },
      "source": [
        "# Final Project: Pitchfork Album Score Prediction"
      ]
    },
    {
      "cell_type": "markdown",
      "metadata": {
        "id": "VKb47fhOzzDM"
      },
      "source": [
        "We are attempting to classify pitchfork album reviews by using multiple machine learning methods for Sentiment Analysis. We started by using a Naive Bayes Model, similar to HW03, to classify album reviews as either neutral or positive. Unsurprisingly, it did not perform that well, mainly due to the fact that pitchfork reviews use a higher level of vocabulary and more complex sentence structure than an average yelp review (as seen in hw03). So we used the results from the Naive Bayes model as a baseline to compare against. We then attempted to train an SVM on our data for sentiment analysis. After tweaking the parameters, we were able to achieve a somewhat decent accuracy. "
      ]
    },
    {
      "cell_type": "markdown",
      "metadata": {
        "id": "2oKlSSwtwH2r"
      },
      "source": [
        "**To run this code, press Run all in Google Colab.**"
      ]
    },
    {
      "cell_type": "markdown",
      "metadata": {
        "id": "zlIxFbCze-WX"
      },
      "source": [
        "## The Domain\n",
        "Our domain was album reviews from the website [Pitchfork](https://pitchfork.com/) - the self acclaimed 'most trusted voice in music'. Pitchfork is known for their critical reviews that can make or break careers. Their reviews are known for their flowery, superfluous language which makes it more difficult to perform sentiment analysis on. "
      ]
    },
    {
      "cell_type": "markdown",
      "metadata": {
        "id": "ot1Nr9eCdzyf"
      },
      "source": [
        "## The Data\n",
        "\n",
        "We obtained our data from [Kaggle](https://www.kaggle.com/nolanbconaway/pitchfork-data). Kaggle user Nolan Conaway conveniently scraped and compiled this data from [Pitchfork reviews](https://pitchfork.com/reviews/albums/). He scraped data starting from Jan 5, 1999 to Jan 8, 2017. This gave us album review data spanning over 18 years, which yielded 18,401 rows of data - more than enough for most machine learning applications. "
      ]
    },
    {
      "cell_type": "code",
      "metadata": {
        "id": "mtCqfk-v0lQa"
      },
      "source": [
        "import pandas as pd\n",
        "raw_df = pd.read_csv('https://raw.githubusercontent.com/neelchoudhary/pitchfork_sentiment_analysis/master/data.csv', engine='python')"
      ],
      "execution_count": 1,
      "outputs": []
    },
    {
      "cell_type": "code",
      "metadata": {
        "id": "TpduykvfStSA",
        "colab": {
          "base_uri": "https://localhost:8080/",
          "height": 564
        },
        "outputId": "b4ea676c-4f6c-4018-f11a-89c87f616051"
      },
      "source": [
        "raw_df.head()"
      ],
      "execution_count": 2,
      "outputs": [
        {
          "output_type": "execute_result",
          "data": {
            "text/html": [
              "<div>\n",
              "<style scoped>\n",
              "    .dataframe tbody tr th:only-of-type {\n",
              "        vertical-align: middle;\n",
              "    }\n",
              "\n",
              "    .dataframe tbody tr th {\n",
              "        vertical-align: top;\n",
              "    }\n",
              "\n",
              "    .dataframe thead th {\n",
              "        text-align: right;\n",
              "    }\n",
              "</style>\n",
              "<table border=\"1\" class=\"dataframe\">\n",
              "  <thead>\n",
              "    <tr style=\"text-align: right;\">\n",
              "      <th></th>\n",
              "      <th>reviewid</th>\n",
              "      <th>title</th>\n",
              "      <th>artist</th>\n",
              "      <th>url</th>\n",
              "      <th>score</th>\n",
              "      <th>best_new_music</th>\n",
              "      <th>author</th>\n",
              "      <th>author_type</th>\n",
              "      <th>pub_date</th>\n",
              "      <th>pub_weekday</th>\n",
              "      <th>pub_day</th>\n",
              "      <th>pub_month</th>\n",
              "      <th>pub_year</th>\n",
              "      <th>reviewid.1</th>\n",
              "      <th>content</th>\n",
              "    </tr>\n",
              "  </thead>\n",
              "  <tbody>\n",
              "    <tr>\n",
              "      <th>0</th>\n",
              "      <td>22703</td>\n",
              "      <td>mezzanine</td>\n",
              "      <td>massive attack</td>\n",
              "      <td>http://pitchfork.com/reviews/albums/22703-mezz...</td>\n",
              "      <td>9.3</td>\n",
              "      <td>0</td>\n",
              "      <td>nate patrin</td>\n",
              "      <td>contributor</td>\n",
              "      <td>2017-01-08</td>\n",
              "      <td>6</td>\n",
              "      <td>8</td>\n",
              "      <td>1</td>\n",
              "      <td>2017</td>\n",
              "      <td>22703</td>\n",
              "      <td>“Trip-hop” eventually became a ’90s punchline,...</td>\n",
              "    </tr>\n",
              "    <tr>\n",
              "      <th>1</th>\n",
              "      <td>22721</td>\n",
              "      <td>prelapsarian</td>\n",
              "      <td>krallice</td>\n",
              "      <td>http://pitchfork.com/reviews/albums/22721-prel...</td>\n",
              "      <td>7.9</td>\n",
              "      <td>0</td>\n",
              "      <td>zoe camp</td>\n",
              "      <td>contributor</td>\n",
              "      <td>2017-01-07</td>\n",
              "      <td>5</td>\n",
              "      <td>7</td>\n",
              "      <td>1</td>\n",
              "      <td>2017</td>\n",
              "      <td>22721</td>\n",
              "      <td>Eight years, five albums, and two EPs in, the ...</td>\n",
              "    </tr>\n",
              "    <tr>\n",
              "      <th>2</th>\n",
              "      <td>22659</td>\n",
              "      <td>all of them naturals</td>\n",
              "      <td>uranium club</td>\n",
              "      <td>http://pitchfork.com/reviews/albums/22659-all-...</td>\n",
              "      <td>7.3</td>\n",
              "      <td>0</td>\n",
              "      <td>david glickman</td>\n",
              "      <td>contributor</td>\n",
              "      <td>2017-01-07</td>\n",
              "      <td>5</td>\n",
              "      <td>7</td>\n",
              "      <td>1</td>\n",
              "      <td>2017</td>\n",
              "      <td>22659</td>\n",
              "      <td>Minneapolis’ Uranium Club seem to revel in bei...</td>\n",
              "    </tr>\n",
              "    <tr>\n",
              "      <th>3</th>\n",
              "      <td>22661</td>\n",
              "      <td>first songs</td>\n",
              "      <td>kleenex, liliput</td>\n",
              "      <td>http://pitchfork.com/reviews/albums/22661-firs...</td>\n",
              "      <td>9.0</td>\n",
              "      <td>1</td>\n",
              "      <td>jenn pelly</td>\n",
              "      <td>associate reviews editor</td>\n",
              "      <td>2017-01-06</td>\n",
              "      <td>4</td>\n",
              "      <td>6</td>\n",
              "      <td>1</td>\n",
              "      <td>2017</td>\n",
              "      <td>22661</td>\n",
              "      <td>Kleenex began with a crash. It transpired one ...</td>\n",
              "    </tr>\n",
              "    <tr>\n",
              "      <th>4</th>\n",
              "      <td>22725</td>\n",
              "      <td>new start</td>\n",
              "      <td>taso</td>\n",
              "      <td>http://pitchfork.com/reviews/albums/22725-new-...</td>\n",
              "      <td>8.1</td>\n",
              "      <td>0</td>\n",
              "      <td>kevin lozano</td>\n",
              "      <td>tracks coordinator</td>\n",
              "      <td>2017-01-06</td>\n",
              "      <td>4</td>\n",
              "      <td>6</td>\n",
              "      <td>1</td>\n",
              "      <td>2017</td>\n",
              "      <td>22725</td>\n",
              "      <td>It is impossible to consider a given release b...</td>\n",
              "    </tr>\n",
              "  </tbody>\n",
              "</table>\n",
              "</div>"
            ],
            "text/plain": [
              "   reviewid  ...                                            content\n",
              "0     22703  ...  “Trip-hop” eventually became a ’90s punchline,...\n",
              "1     22721  ...  Eight years, five albums, and two EPs in, the ...\n",
              "2     22659  ...  Minneapolis’ Uranium Club seem to revel in bei...\n",
              "3     22661  ...  Kleenex began with a crash. It transpired one ...\n",
              "4     22725  ...  It is impossible to consider a given release b...\n",
              "\n",
              "[5 rows x 15 columns]"
            ]
          },
          "metadata": {
            "tags": []
          },
          "execution_count": 2
        }
      ]
    },
    {
      "cell_type": "markdown",
      "metadata": {
        "id": "XNCkfCt_hmpp"
      },
      "source": [
        "## Data Cleaning\n",
        "As seen in the raw data, there are many columns that are not needed for sentiment analysis. There are also too many possibilities for the score, so we rounded each score to the nearest integer. The following code block rounds the score and drops unnecessary columns."
      ]
    },
    {
      "cell_type": "code",
      "metadata": {
        "colab": {
          "base_uri": "https://localhost:8080/",
          "height": 204
        },
        "id": "re4e4HOg_eAH",
        "outputId": "9a21579f-2928-4bef-e7ca-769acfc08581"
      },
      "source": [
        "rounded_df = raw_df.round({'score': 0})\n",
        "df = rounded_df.drop(columns=['best_new_music', 'pub_weekday', 'pub_day', 'pub_month', 'pub_year', 'author_type', 'reviewid.1', 'author', 'pub_date', 'url', 'artist', 'title']).dropna()\n",
        "df.head()"
      ],
      "execution_count": 3,
      "outputs": [
        {
          "output_type": "execute_result",
          "data": {
            "text/html": [
              "<div>\n",
              "<style scoped>\n",
              "    .dataframe tbody tr th:only-of-type {\n",
              "        vertical-align: middle;\n",
              "    }\n",
              "\n",
              "    .dataframe tbody tr th {\n",
              "        vertical-align: top;\n",
              "    }\n",
              "\n",
              "    .dataframe thead th {\n",
              "        text-align: right;\n",
              "    }\n",
              "</style>\n",
              "<table border=\"1\" class=\"dataframe\">\n",
              "  <thead>\n",
              "    <tr style=\"text-align: right;\">\n",
              "      <th></th>\n",
              "      <th>reviewid</th>\n",
              "      <th>score</th>\n",
              "      <th>content</th>\n",
              "    </tr>\n",
              "  </thead>\n",
              "  <tbody>\n",
              "    <tr>\n",
              "      <th>0</th>\n",
              "      <td>22703</td>\n",
              "      <td>9.0</td>\n",
              "      <td>“Trip-hop” eventually became a ’90s punchline,...</td>\n",
              "    </tr>\n",
              "    <tr>\n",
              "      <th>1</th>\n",
              "      <td>22721</td>\n",
              "      <td>8.0</td>\n",
              "      <td>Eight years, five albums, and two EPs in, the ...</td>\n",
              "    </tr>\n",
              "    <tr>\n",
              "      <th>2</th>\n",
              "      <td>22659</td>\n",
              "      <td>7.0</td>\n",
              "      <td>Minneapolis’ Uranium Club seem to revel in bei...</td>\n",
              "    </tr>\n",
              "    <tr>\n",
              "      <th>3</th>\n",
              "      <td>22661</td>\n",
              "      <td>9.0</td>\n",
              "      <td>Kleenex began with a crash. It transpired one ...</td>\n",
              "    </tr>\n",
              "    <tr>\n",
              "      <th>4</th>\n",
              "      <td>22725</td>\n",
              "      <td>8.0</td>\n",
              "      <td>It is impossible to consider a given release b...</td>\n",
              "    </tr>\n",
              "  </tbody>\n",
              "</table>\n",
              "</div>"
            ],
            "text/plain": [
              "   reviewid  score                                            content\n",
              "0     22703    9.0  “Trip-hop” eventually became a ’90s punchline,...\n",
              "1     22721    8.0  Eight years, five albums, and two EPs in, the ...\n",
              "2     22659    7.0  Minneapolis’ Uranium Club seem to revel in bei...\n",
              "3     22661    9.0  Kleenex began with a crash. It transpired one ...\n",
              "4     22725    8.0  It is impossible to consider a given release b..."
            ]
          },
          "metadata": {
            "tags": []
          },
          "execution_count": 3
        }
      ]
    },
    {
      "cell_type": "markdown",
      "metadata": {
        "id": "v2Xqs1bHjtx6"
      },
      "source": [
        "## Data Visualization\n",
        "We analyzed the score distribution of our data in order to figure out the best way to cull / transform our data in order to make it more balanced. This is to avoid issues with overfitting to a certain score that is more prevelant than the other scores. "
      ]
    },
    {
      "cell_type": "markdown",
      "metadata": {
        "id": "KIuEjwcPkQS9"
      },
      "source": [
        "###Score distribution graph using Seaborn\n",
        "As seen below, the score is heavily skewed towards the 7-8 range. This is problematic as there is very little data at the tails, especially the left tail of this distribution. "
      ]
    },
    {
      "cell_type": "code",
      "metadata": {
        "colab": {
          "base_uri": "https://localhost:8080/",
          "height": 296
        },
        "id": "JYuFk1j5j7di",
        "outputId": "824d17fb-ccd2-4726-cdfc-c08c38b1fbcb"
      },
      "source": [
        "import seaborn as sns\n",
        "sns.countplot(x=df.score)"
      ],
      "execution_count": 4,
      "outputs": [
        {
          "output_type": "execute_result",
          "data": {
            "text/plain": [
              "<matplotlib.axes._subplots.AxesSubplot at 0x7f80193d8b00>"
            ]
          },
          "metadata": {
            "tags": []
          },
          "execution_count": 4
        },
        {
          "output_type": "display_data",
          "data": {
            "image/png": "[encoded data removed]",
            "text/plain": [
              "<Figure size 432x288 with 1 Axes>"
            ]
          },
          "metadata": {
            "tags": [],
            "needs_background": "light"
          }
        }
      ]
    },
    {
      "cell_type": "markdown",
      "metadata": {
        "id": "rawrurb9lf16"
      },
      "source": [
        "Given these results, we decided to cull data with a rounded score less than 5. We then decided to consolidate the scores 5-7 into the neutral category (0), and the scores 8-10 in the positive category (1). "
      ]
    },
    {
      "cell_type": "code",
      "metadata": {
        "id": "bxge-9OYliB_"
      },
      "source": [
        "def score_transform(rating):\n",
        "  rating = float(rating)\n",
        "  if rating < 5:\n",
        "    return -1 # negative\n",
        "  if rating >= 5 and rating <= 7:\n",
        "    return 0 # neutral\n",
        "  else:\n",
        "    return 1 # positive\n",
        "\n",
        "df_final = df.copy(deep=True)\n",
        "df_final['score'] = df['score'].apply(score_transform)\n",
        "df_final = df_final[df_final['score'] != -1]"
      ],
      "execution_count": 5,
      "outputs": []
    },
    {
      "cell_type": "code",
      "metadata": {
        "colab": {
          "base_uri": "https://localhost:8080/",
          "height": 204
        },
        "id": "0IBr1DU-l6uy",
        "outputId": "c72fd32b-7fe5-43d6-e36f-a5f45e245fe7"
      },
      "source": [
        "df_final.head()"
      ],
      "execution_count": 6,
      "outputs": [
        {
          "output_type": "execute_result",
          "data": {
            "text/html": [
              "<div>\n",
              "<style scoped>\n",
              "    .dataframe tbody tr th:only-of-type {\n",
              "        vertical-align: middle;\n",
              "    }\n",
              "\n",
              "    .dataframe tbody tr th {\n",
              "        vertical-align: top;\n",
              "    }\n",
              "\n",
              "    .dataframe thead th {\n",
              "        text-align: right;\n",
              "    }\n",
              "</style>\n",
              "<table border=\"1\" class=\"dataframe\">\n",
              "  <thead>\n",
              "    <tr style=\"text-align: right;\">\n",
              "      <th></th>\n",
              "      <th>reviewid</th>\n",
              "      <th>score</th>\n",
              "      <th>content</th>\n",
              "    </tr>\n",
              "  </thead>\n",
              "  <tbody>\n",
              "    <tr>\n",
              "      <th>0</th>\n",
              "      <td>22703</td>\n",
              "      <td>1</td>\n",
              "      <td>“Trip-hop” eventually became a ’90s punchline,...</td>\n",
              "    </tr>\n",
              "    <tr>\n",
              "      <th>1</th>\n",
              "      <td>22721</td>\n",
              "      <td>1</td>\n",
              "      <td>Eight years, five albums, and two EPs in, the ...</td>\n",
              "    </tr>\n",
              "    <tr>\n",
              "      <th>2</th>\n",
              "      <td>22659</td>\n",
              "      <td>0</td>\n",
              "      <td>Minneapolis’ Uranium Club seem to revel in bei...</td>\n",
              "    </tr>\n",
              "    <tr>\n",
              "      <th>3</th>\n",
              "      <td>22661</td>\n",
              "      <td>1</td>\n",
              "      <td>Kleenex began with a crash. It transpired one ...</td>\n",
              "    </tr>\n",
              "    <tr>\n",
              "      <th>4</th>\n",
              "      <td>22725</td>\n",
              "      <td>1</td>\n",
              "      <td>It is impossible to consider a given release b...</td>\n",
              "    </tr>\n",
              "  </tbody>\n",
              "</table>\n",
              "</div>"
            ],
            "text/plain": [
              "   reviewid  score                                            content\n",
              "0     22703      1  “Trip-hop” eventually became a ’90s punchline,...\n",
              "1     22721      1  Eight years, five albums, and two EPs in, the ...\n",
              "2     22659      0  Minneapolis’ Uranium Club seem to revel in bei...\n",
              "3     22661      1  Kleenex began with a crash. It transpired one ...\n",
              "4     22725      1  It is impossible to consider a given release b..."
            ]
          },
          "metadata": {
            "tags": []
          },
          "execution_count": 6
        }
      ]
    },
    {
      "cell_type": "markdown",
      "metadata": {
        "id": "ybUdDHNTmqGZ"
      },
      "source": [
        "The tranformed data is more balanced, as seen below."
      ]
    },
    {
      "cell_type": "code",
      "metadata": {
        "colab": {
          "base_uri": "https://localhost:8080/",
          "height": 296
        },
        "id": "3sD9L6gcmqjY",
        "outputId": "4896fff5-e0bd-408e-95c7-9f5e78df54d3"
      },
      "source": [
        "sns.countplot(x=df_final.score)"
      ],
      "execution_count": 7,
      "outputs": [
        {
          "output_type": "execute_result",
          "data": {
            "text/plain": [
              "<matplotlib.axes._subplots.AxesSubplot at 0x7f8019356c88>"
            ]
          },
          "metadata": {
            "tags": []
          },
          "execution_count": 7
        },
        {
          "output_type": "display_data",
          "data": {
            "image/png": "[encoded data removed]",
            "text/plain": [
              "<Figure size 432x288 with 1 Axes>"
            ]
          },
          "metadata": {
            "tags": [],
            "needs_background": "light"
          }
        }
      ]
    },
    {
      "cell_type": "markdown",
      "metadata": {
        "id": "gNQHSUUKnkrP"
      },
      "source": [
        "## Features, Targets, and Data Splitting\n",
        "We split our data into three datasets for training, testing, and validation. We used a 60/20/20 split respectively. "
      ]
    },
    {
      "cell_type": "code",
      "metadata": {
        "id": "A5MQBgrVNxcl"
      },
      "source": [
        "features = df_final.drop(columns='score')\n",
        "targets = df_final['score']"
      ],
      "execution_count": 8,
      "outputs": []
    },
    {
      "cell_type": "code",
      "metadata": {
        "colab": {
          "base_uri": "https://localhost:8080/",
          "height": 204
        },
        "id": "BSpWJADUoHzP",
        "outputId": "6e9422e1-9588-42c1-a5f6-38e3b53df90d"
      },
      "source": [
        "features.head()"
      ],
      "execution_count": 9,
      "outputs": [
        {
          "output_type": "execute_result",
          "data": {
            "text/html": [
              "<div>\n",
              "<style scoped>\n",
              "    .dataframe tbody tr th:only-of-type {\n",
              "        vertical-align: middle;\n",
              "    }\n",
              "\n",
              "    .dataframe tbody tr th {\n",
              "        vertical-align: top;\n",
              "    }\n",
              "\n",
              "    .dataframe thead th {\n",
              "        text-align: right;\n",
              "    }\n",
              "</style>\n",
              "<table border=\"1\" class=\"dataframe\">\n",
              "  <thead>\n",
              "    <tr style=\"text-align: right;\">\n",
              "      <th></th>\n",
              "      <th>reviewid</th>\n",
              "      <th>content</th>\n",
              "    </tr>\n",
              "  </thead>\n",
              "  <tbody>\n",
              "    <tr>\n",
              "      <th>0</th>\n",
              "      <td>22703</td>\n",
              "      <td>“Trip-hop” eventually became a ’90s punchline,...</td>\n",
              "    </tr>\n",
              "    <tr>\n",
              "      <th>1</th>\n",
              "      <td>22721</td>\n",
              "      <td>Eight years, five albums, and two EPs in, the ...</td>\n",
              "    </tr>\n",
              "    <tr>\n",
              "      <th>2</th>\n",
              "      <td>22659</td>\n",
              "      <td>Minneapolis’ Uranium Club seem to revel in bei...</td>\n",
              "    </tr>\n",
              "    <tr>\n",
              "      <th>3</th>\n",
              "      <td>22661</td>\n",
              "      <td>Kleenex began with a crash. It transpired one ...</td>\n",
              "    </tr>\n",
              "    <tr>\n",
              "      <th>4</th>\n",
              "      <td>22725</td>\n",
              "      <td>It is impossible to consider a given release b...</td>\n",
              "    </tr>\n",
              "  </tbody>\n",
              "</table>\n",
              "</div>"
            ],
            "text/plain": [
              "   reviewid                                            content\n",
              "0     22703  “Trip-hop” eventually became a ’90s punchline,...\n",
              "1     22721  Eight years, five albums, and two EPs in, the ...\n",
              "2     22659  Minneapolis’ Uranium Club seem to revel in bei...\n",
              "3     22661  Kleenex began with a crash. It transpired one ...\n",
              "4     22725  It is impossible to consider a given release b..."
            ]
          },
          "metadata": {
            "tags": []
          },
          "execution_count": 9
        }
      ]
    },
    {
      "cell_type": "code",
      "metadata": {
        "colab": {
          "base_uri": "https://localhost:8080/"
        },
        "id": "lx0fEUGyuUG9",
        "outputId": "3cdfba78-6ecc-46c7-9c6d-cb870e6b3224"
      },
      "source": [
        "targets.head()"
      ],
      "execution_count": 10,
      "outputs": [
        {
          "output_type": "execute_result",
          "data": {
            "text/plain": [
              "0    1\n",
              "1    1\n",
              "2    0\n",
              "3    1\n",
              "4    1\n",
              "Name: score, dtype: int64"
            ]
          },
          "metadata": {
            "tags": []
          },
          "execution_count": 10
        }
      ]
    },
    {
      "cell_type": "code",
      "metadata": {
        "id": "9t0Tgaa9wZXm"
      },
      "source": [
        "from sklearn.model_selection import train_test_split\n",
        "features_trainvalidation, features_test, targets_trainvalidation, targets_test = train_test_split(features, targets, train_size=0.8, random_state=4100)\n",
        "features_train, features_validation, targets_train, targets_validation = train_test_split(features_trainvalidation, targets_trainvalidation, train_size=0.75, random_state=4100)"
      ],
      "execution_count": 11,
      "outputs": []
    },
    {
      "cell_type": "code",
      "metadata": {
        "colab": {
          "base_uri": "https://localhost:8080/",
          "height": 204
        },
        "id": "EDvsEzKjweHG",
        "outputId": "362b1d5d-954c-4dad-b5df-f0f3c02d9954"
      },
      "source": [
        "training_df = features_train.copy(deep=True)\n",
        "training_df['score'] = targets_train\n",
        "training_df.head()"
      ],
      "execution_count": 12,
      "outputs": [
        {
          "output_type": "execute_result",
          "data": {
            "text/html": [
              "<div>\n",
              "<style scoped>\n",
              "    .dataframe tbody tr th:only-of-type {\n",
              "        vertical-align: middle;\n",
              "    }\n",
              "\n",
              "    .dataframe tbody tr th {\n",
              "        vertical-align: top;\n",
              "    }\n",
              "\n",
              "    .dataframe thead th {\n",
              "        text-align: right;\n",
              "    }\n",
              "</style>\n",
              "<table border=\"1\" class=\"dataframe\">\n",
              "  <thead>\n",
              "    <tr style=\"text-align: right;\">\n",
              "      <th></th>\n",
              "      <th>reviewid</th>\n",
              "      <th>content</th>\n",
              "      <th>score</th>\n",
              "    </tr>\n",
              "  </thead>\n",
              "  <tbody>\n",
              "    <tr>\n",
              "      <th>9772</th>\n",
              "      <td>12187</td>\n",
              "      <td>So an MC who's been recording for over a decad...</td>\n",
              "      <td>1</td>\n",
              "    </tr>\n",
              "    <tr>\n",
              "      <th>6120</th>\n",
              "      <td>15928</td>\n",
              "      <td>There's been no shortage of dialogue around ho...</td>\n",
              "      <td>1</td>\n",
              "    </tr>\n",
              "    <tr>\n",
              "      <th>5105</th>\n",
              "      <td>17154</td>\n",
              "      <td>On the last day of November 2010, Bonnie \"Prin...</td>\n",
              "      <td>1</td>\n",
              "    </tr>\n",
              "    <tr>\n",
              "      <th>16716</th>\n",
              "      <td>6226</td>\n",
              "      <td>In the liner notes for O.S.T., People Under th...</td>\n",
              "      <td>1</td>\n",
              "    </tr>\n",
              "    <tr>\n",
              "      <th>9035</th>\n",
              "      <td>12949</td>\n",
              "      <td>Unlike his predecessors in the fraternal  orde...</td>\n",
              "      <td>0</td>\n",
              "    </tr>\n",
              "  </tbody>\n",
              "</table>\n",
              "</div>"
            ],
            "text/plain": [
              "       reviewid                                            content  score\n",
              "9772      12187  So an MC who's been recording for over a decad...      1\n",
              "6120      15928  There's been no shortage of dialogue around ho...      1\n",
              "5105      17154  On the last day of November 2010, Bonnie \"Prin...      1\n",
              "16716      6226  In the liner notes for O.S.T., People Under th...      1\n",
              "9035      12949  Unlike his predecessors in the fraternal  orde...      0"
            ]
          },
          "metadata": {
            "tags": []
          },
          "execution_count": 12
        }
      ]
    },
    {
      "cell_type": "code",
      "metadata": {
        "colab": {
          "base_uri": "https://localhost:8080/",
          "height": 204
        },
        "id": "qAvWQLun0dlf",
        "outputId": "f39fbcbe-c691-432c-f1e9-8c531324b0e3"
      },
      "source": [
        "validation_df = features_validation.copy(deep=True)\n",
        "validation_df['score'] = targets_validation\n",
        "validation_df.head()"
      ],
      "execution_count": 13,
      "outputs": [
        {
          "output_type": "execute_result",
          "data": {
            "text/html": [
              "<div>\n",
              "<style scoped>\n",
              "    .dataframe tbody tr th:only-of-type {\n",
              "        vertical-align: middle;\n",
              "    }\n",
              "\n",
              "    .dataframe tbody tr th {\n",
              "        vertical-align: top;\n",
              "    }\n",
              "\n",
              "    .dataframe thead th {\n",
              "        text-align: right;\n",
              "    }\n",
              "</style>\n",
              "<table border=\"1\" class=\"dataframe\">\n",
              "  <thead>\n",
              "    <tr style=\"text-align: right;\">\n",
              "      <th></th>\n",
              "      <th>reviewid</th>\n",
              "      <th>content</th>\n",
              "      <th>score</th>\n",
              "    </tr>\n",
              "  </thead>\n",
              "  <tbody>\n",
              "    <tr>\n",
              "      <th>3581</th>\n",
              "      <td>18705</td>\n",
              "      <td>The worst thing about the remarkable The First...</td>\n",
              "      <td>1</td>\n",
              "    </tr>\n",
              "    <tr>\n",
              "      <th>721</th>\n",
              "      <td>21872</td>\n",
              "      <td>Try as they might, Mourn couldn’t help but sho...</td>\n",
              "      <td>0</td>\n",
              "    </tr>\n",
              "    <tr>\n",
              "      <th>12685</th>\n",
              "      <td>7729</td>\n",
              "      <td>On paper, The Seeger Sessions seems like a ter...</td>\n",
              "      <td>1</td>\n",
              "    </tr>\n",
              "    <tr>\n",
              "      <th>10816</th>\n",
              "      <td>10754</td>\n",
              "      <td>\\r\\n    Getting the full picture of Joe Willia...</td>\n",
              "      <td>1</td>\n",
              "    </tr>\n",
              "    <tr>\n",
              "      <th>16114</th>\n",
              "      <td>5031</td>\n",
              "      <td>Friends Forever isn't a metal record, but let'...</td>\n",
              "      <td>0</td>\n",
              "    </tr>\n",
              "  </tbody>\n",
              "</table>\n",
              "</div>"
            ],
            "text/plain": [
              "       reviewid                                            content  score\n",
              "3581      18705  The worst thing about the remarkable The First...      1\n",
              "721       21872  Try as they might, Mourn couldn’t help but sho...      0\n",
              "12685      7729  On paper, The Seeger Sessions seems like a ter...      1\n",
              "10816     10754  \\r\\n    Getting the full picture of Joe Willia...      1\n",
              "16114      5031  Friends Forever isn't a metal record, but let'...      0"
            ]
          },
          "metadata": {
            "tags": []
          },
          "execution_count": 13
        }
      ]
    },
    {
      "cell_type": "code",
      "metadata": {
        "colab": {
          "base_uri": "https://localhost:8080/",
          "height": 204
        },
        "id": "zr_CZMoSYU76",
        "outputId": "2b759912-8fd2-4fdb-cad0-7b200a682efa"
      },
      "source": [
        "test_df = features_test.copy(deep=True)\n",
        "test_df['score'] = targets_test\n",
        "test_df.head()"
      ],
      "execution_count": 14,
      "outputs": [
        {
          "output_type": "execute_result",
          "data": {
            "text/html": [
              "<div>\n",
              "<style scoped>\n",
              "    .dataframe tbody tr th:only-of-type {\n",
              "        vertical-align: middle;\n",
              "    }\n",
              "\n",
              "    .dataframe tbody tr th {\n",
              "        vertical-align: top;\n",
              "    }\n",
              "\n",
              "    .dataframe thead th {\n",
              "        text-align: right;\n",
              "    }\n",
              "</style>\n",
              "<table border=\"1\" class=\"dataframe\">\n",
              "  <thead>\n",
              "    <tr style=\"text-align: right;\">\n",
              "      <th></th>\n",
              "      <th>reviewid</th>\n",
              "      <th>content</th>\n",
              "      <th>score</th>\n",
              "    </tr>\n",
              "  </thead>\n",
              "  <tbody>\n",
              "    <tr>\n",
              "      <th>402</th>\n",
              "      <td>22212</td>\n",
              "      <td>The hippies inspired a wholesale revision of m...</td>\n",
              "      <td>1</td>\n",
              "    </tr>\n",
              "    <tr>\n",
              "      <th>1439</th>\n",
              "      <td>21143</td>\n",
              "      <td>VHÖL are the ideal modern metal band—they fuse...</td>\n",
              "      <td>1</td>\n",
              "    </tr>\n",
              "    <tr>\n",
              "      <th>7035</th>\n",
              "      <td>14995</td>\n",
              "      <td>Sic Alps' simple garage-rock is both enticing ...</td>\n",
              "      <td>1</td>\n",
              "    </tr>\n",
              "    <tr>\n",
              "      <th>12078</th>\n",
              "      <td>9538</td>\n",
              "      <td>While it's nice to hear Mac McCaughan hearken ...</td>\n",
              "      <td>1</td>\n",
              "    </tr>\n",
              "    <tr>\n",
              "      <th>17236</th>\n",
              "      <td>223</td>\n",
              "      <td>Stop me if this gets sappy. And it might. Beca...</td>\n",
              "      <td>1</td>\n",
              "    </tr>\n",
              "  </tbody>\n",
              "</table>\n",
              "</div>"
            ],
            "text/plain": [
              "       reviewid                                            content  score\n",
              "402       22212  The hippies inspired a wholesale revision of m...      1\n",
              "1439      21143  VHÖL are the ideal modern metal band—they fuse...      1\n",
              "7035      14995  Sic Alps' simple garage-rock is both enticing ...      1\n",
              "12078      9538  While it's nice to hear Mac McCaughan hearken ...      1\n",
              "17236       223  Stop me if this gets sappy. And it might. Beca...      1"
            ]
          },
          "metadata": {
            "tags": []
          },
          "execution_count": 14
        }
      ]
    },
    {
      "cell_type": "markdown",
      "metadata": {
        "id": "v31kQ88XrRdS"
      },
      "source": [
        "## Naive Bayes & Markov Model\n",
        "As a baseline, we used the naive bayes & markov model from HW03 to classify sentiments in our dataset. We modified to code to classify between a neutral and positive sentiment. We used bigrams for the Markov Model. We hypothesized that while both models would perform poorly on this dataset, the markov model would perform slightly better. This is because these album reviews are highly dependent on context, therefore, using bigrams would result in slightly higher performance. "
      ]
    },
    {
      "cell_type": "markdown",
      "metadata": {
        "id": "3aQBHsQfTiUp"
      },
      "source": [
        "Code attribution from HW03. Modified to fit our dataset. "
      ]
    },
    {
      "cell_type": "code",
      "metadata": {
        "id": "XaeTUf9_UFj8"
      },
      "source": [
        "from nltk.util import bigrams\n",
        "\n",
        "def tokenize(sentence):\n",
        "    \"\"\" Returns list of tokens (strings) from the sentence.\n",
        "\n",
        "    Sets to lowercase and separates tokens by whitespace.\n",
        "\n",
        "    Args:\n",
        "        sentence (string):  the string to tokenize\n",
        "    \"\"\"\n",
        "    return [t.lower() for t in sentence.split()]\n",
        "\n",
        "class ModelInfo:\n",
        "    \"\"\" Contains all counts from the data necessary to do Naive Bayes.\n",
        "\n",
        "    Attributes:\n",
        "        word_counts (List[Dict[string,int]]):  counts of tokens, indexed by class\n",
        "        bigram_counts (List[Dict[string,int]]): as word_counts, but for bigrams\n",
        "        sentiment_counts (List[int]):  counts of sentences with each sentiment\n",
        "        total_words (List[int]):  counts of words in each sentiment\n",
        "        bigram_denoms (List[Dict[string,int]]):  counts of how often a token starts a bigram,\n",
        "                                                 again one per sentiment.\n",
        "        total_bigrams (List[int]): counts of total bigrams for each sentiment\n",
        "        total_examples (int):  total sentence count\n",
        "    \"\"\"\n",
        "\n",
        "    def __init__(self):\n",
        "        self.word_counts = [{}, {}]\n",
        "        self.bigram_counts = [{}, {}]\n",
        "        self.sentiment_counts = [0, 0]\n",
        "        self.total_words = [0, 0]\n",
        "        self.bigram_denoms = [{}, {}]\n",
        "        self.total_bigrams = [0, 0]\n",
        "        self.total_examples = 0\n",
        "\n",
        "    def __str__(self):\n",
        "        words = self.total_words\n",
        "        sentiments = self.sentiment_counts\n",
        "        return \"words by sentiment: {} sentences: {}\".format(words, sentiments)\n",
        "\n",
        "    def update_word_counts(self, sentence, sentiment):\n",
        "        \"\"\" Consume a sentence and update all counts.\n",
        "\n",
        "        To \"tokenize\" the sentence we'll make use of NLTK, a widely-used Python natural language\n",
        "        processing (NLP) library.  This will handle otherwise onerous tasks like separating periods\n",
        "        from their attached words.  (Unless the periods are decimal points ... it's more complex\n",
        "        than you might think.)  The result of tokenization is a list of individual strings that are\n",
        "        words or their equivalent.\n",
        "\n",
        "        Args:\n",
        "            sentence (string):  The example sentence.\n",
        "            sentiment (int):  The sentiment label.\n",
        "        \"\"\"\n",
        "\n",
        "        # Get the relevant dicts for the sentiment\n",
        "        s_word_counts = self.word_counts[sentiment]\n",
        "        s_bigram_counts = self.bigram_counts[sentiment]\n",
        "        s_bigram_denoms = self.bigram_denoms[sentiment]\n",
        "        tokens = tokenize(sentence)\n",
        "        for token in tokens:\n",
        "            self.total_words[sentiment] += 1\n",
        "            s_word_counts[token] = s_word_counts.get(token, 0) + 1\n",
        "        my_bigrams = bigrams(tokens)\n",
        "        for bigram in my_bigrams:\n",
        "            s_bigram_counts[bigram] = s_bigram_counts.get(bigram, 0) + 1\n",
        "            s_bigram_denoms[bigram[0]] = s_bigram_denoms.get(bigram[0], 0) + 1\n",
        "            self.total_bigrams[sentiment] += 1\n",
        "       \n",
        "def get_models(df):\n",
        "    \"\"\"Returns a model_info object, consuming dataframe for examples.\"\"\"\n",
        "    last_fresh = 0\n",
        "    info = ModelInfo()\n",
        "    for idx, line in df.iterrows():\n",
        "        try:\n",
        "            sentence_num = int(idx)\n",
        "            # if sentence_num <= last_fresh:\n",
        "                # continue\n",
        "            last_fresh = sentence_num\n",
        "            sentiment = int(line['score'])\n",
        "            info.sentiment_counts[sentiment] += 1\n",
        "            info.total_examples += 1\n",
        "            info.update_word_counts(line['content'], sentiment)\n",
        "        except ValueError:\n",
        "            # Some kind of bad input?  Unlikely with our provided data\n",
        "            continue\n",
        "    return info"
      ],
      "execution_count": 15,
      "outputs": []
    },
    {
      "cell_type": "code",
      "metadata": {
        "id": "lbDFkUPuVVGx",
        "colab": {
          "base_uri": "https://localhost:8080/"
        },
        "outputId": "e5ff86b9-54fa-491e-f142-77b5c56428e6"
      },
      "source": [
        "model = get_models(training_df)\n",
        "print(model)"
      ],
      "execution_count": 16,
      "outputs": [
        {
          "output_type": "stream",
          "text": [
            "words by sentiment: [3550755, 3282454] sentences: [5878, 4591]\n"
          ],
          "name": "stdout"
        }
      ]
    },
    {
      "cell_type": "markdown",
      "metadata": {
        "id": "izfKDOyI1G45"
      },
      "source": [
        "Code attribution from HW03. Modified to fit our dataset. "
      ]
    },
    {
      "cell_type": "code",
      "metadata": {
        "id": "yVb-RjDmtU7I"
      },
      "source": [
        "\"\"\" Doing some Naive Bayes and Markov Models to do basic sentiment analysis.\n",
        "\n",
        "Format is PhraseID[unused]   SentenceID  Sentence[tokenized] Sentiment\n",
        "\n",
        "We'll only use the first line for each SentenceID, since the others are\n",
        "micro-analyzed phrases that would just mess up our counts.\n",
        "\n",
        "Sentiment is on a 2-point scale:\n",
        "0 - neutral\n",
        "1 - positive\n",
        "\n",
        "For each kind of model, we'll build one model per sentiment category.\n",
        "Following Bayesian logic, base rates matter for each category; if critics\n",
        "are often negative, that should be a good guess in the absence of other\n",
        "information.\n",
        "\n",
        "Training input is assumed to be in a file called \"train.tsv\"\n",
        "\n",
        "Test sentences are received via stdin (thus either interactively or with input redirection).\n",
        "Output for each line of input is the following:\n",
        "\n",
        "Naive Bayes classification (0-4)\n",
        "Naive Bayes most likely class's log probability (with default double digits/precision)\n",
        "Markov Model classification (0-4)\n",
        "Markov Model most likely class's log probability\n",
        "\"\"\"\n",
        "\n",
        "import sys\n",
        "import math\n",
        "\n",
        "CLASSES = 2\n",
        "# Assume sentence numbering starts with this number in the file\n",
        "\n",
        "# Probability of either a unigram or bigram that hasn't been seen -\n",
        "# needs to be small enough that it's \"practically a rounding error\"\n",
        "OUT_OF_VOCAB_PROB = 0.0000000001\n",
        "\n",
        "\n",
        "def naive_bayes_classify(info, sentence):\n",
        "    \"\"\" Use a Naive Bayes model to return sentence's most likely classification and the log prob.\n",
        "\n",
        "    The log probability should be base e (natural log).\n",
        "\n",
        "    Args:\n",
        "        info (ModelInfo):  a ModelInfo containing the counts from the training data\n",
        "        sentence (string):  the test sentence to classify\n",
        "    \n",
        "    Returns:\n",
        "        int for the best sentiment\n",
        "        float for the best log probability (unscaled, just ln(prior * product of cond. probs))\n",
        "    \"\"\"\n",
        "\n",
        "    logSentimentProb = []\n",
        "    totalWords = sum(info.sentiment_counts)\n",
        "    for tokenizedTotalWords in info.sentiment_counts:\n",
        "      logSentimentProb.append(math.log(tokenizedTotalWords / totalWords))\n",
        "\n",
        "    for word in tokenize(sentence):\n",
        "      for index, tokenizedWordCount in enumerate(info.word_counts):\n",
        "        if word in tokenizedWordCount:\n",
        "          logSentimentProb[index] += math.log(tokenizedWordCount.get(word) / info.sentiment_counts[index])\n",
        "        else:\n",
        "          logSentimentProb[index] += math.log(OUT_OF_VOCAB_PROB)\n",
        "\n",
        "    maxLogVal = logSentimentProb[0]\n",
        "    maxLogIndex = 0;\n",
        "    for index, logSentiment in enumerate(logSentimentProb):\n",
        "      if logSentiment > maxLogVal:\n",
        "        maxLogVal = logSentiment\n",
        "        maxLogIndex = index\n",
        " \n",
        "    best_class = maxLogIndex\n",
        "    best_log_prob = max(logSentimentProb)\n",
        "    return best_class, best_log_prob\n",
        "\n",
        "\n",
        "def markov_model_classify(info, sentence):\n",
        "    \"\"\" Like naive_bayes_classify, but use a bigram model for the evidence.\n",
        "\n",
        "    The first word should still use a unigram probability to get started.\n",
        "    Notice the existence of bigram_denoms, which has very slight differences from word_counts.\n",
        "    Log probability is again base e.\n",
        "\n",
        "    Args:\n",
        "        info (ModelInfo):  a ModelInfo containing the counts from the training data\n",
        "        sentence (string):  the test sentence to classify\n",
        "\n",
        "    Returns:\n",
        "        int for the best sentiment\n",
        "        float for the best log probability (unscaled, just ln(prior * product of cond. probs))\n",
        "    \"\"\"\n",
        "\n",
        "    logSentimentProb = []\n",
        "    totalWords = sum(info.sentiment_counts)\n",
        "    for tokenizedTotalWords in info.sentiment_counts:\n",
        "      logSentimentProb.append(math.log(tokenizedTotalWords / totalWords))\n",
        "\n",
        "    firstWord = tokenize(sentence)[0]\n",
        "    for index, tokenizedWordCount in enumerate(info.word_counts):\n",
        "      if firstWord in tokenizedWordCount:\n",
        "        logSentimentProb[index] += math.log(tokenizedWordCount.get(firstWord) / info.sentiment_counts[index])\n",
        "      else:\n",
        "        logSentimentProb[index] += math.log(OUT_OF_VOCAB_PROB)\n",
        "\n",
        "    prevWord = firstWord\n",
        "    for idx, word in enumerate(tokenize(sentence)):\n",
        "      if (idx != 0):\n",
        "        for index, tokenizedBigramCount in enumerate(info.bigram_counts):\n",
        "          bigramTuple = (prevWord, word)\n",
        "          if bigramTuple in tokenizedBigramCount:\n",
        "            logSentimentProb[index] += math.log(tokenizedBigramCount.get(bigramTuple) / info.bigram_denoms[index].get(prevWord))\n",
        "          else:\n",
        "            logSentimentProb[index] += math.log(OUT_OF_VOCAB_PROB)\n",
        "        prevWord = word\n",
        "\n",
        "    maxLogVal = logSentimentProb[0]\n",
        "    maxLogIndex = 0;\n",
        "    for index, logSentiment in enumerate(logSentimentProb):\n",
        "      if logSentiment > maxLogVal:\n",
        "        maxLogVal = logSentiment\n",
        "        maxLogIndex = index\n",
        "\n",
        "    best_class = maxLogIndex\n",
        "    best_log_prob = maxLogVal\n",
        "    return best_class, best_log_prob"
      ],
      "execution_count": 17,
      "outputs": []
    },
    {
      "cell_type": "markdown",
      "metadata": {
        "id": "Bd4UMA90yQh9"
      },
      "source": [
        "### Error functions for accuracy prediction\n",
        "We created error functions for the bayes and markov model to return the error between how the classifier classified the review, and the actual score given to the review. We then iterated through the validation data and summed up the error to find the overall accuracy. We used this for fine-tuning our hyperparameters. "
      ]
    },
    {
      "cell_type": "code",
      "metadata": {
        "id": "S4UvTi-tz4F6"
      },
      "source": [
        "def error_function_bayes(model, review_content, real_score):\n",
        "  predicted_score = naive_bayes_classify(model, review_content)[0]\n",
        "  diff = abs(predicted_score - real_score)\n",
        "  return diff"
      ],
      "execution_count": 18,
      "outputs": []
    },
    {
      "cell_type": "code",
      "metadata": {
        "id": "GF4MQhnT13vR"
      },
      "source": [
        "def error_function_markov(model, review_content, real_score):\n",
        "  predicted_score = markov_model_classify(model, review_content)[0]\n",
        "  diff = abs(predicted_score - real_score)\n",
        "  return diff"
      ],
      "execution_count": 19,
      "outputs": []
    },
    {
      "cell_type": "code",
      "metadata": {
        "colab": {
          "base_uri": "https://localhost:8080/"
        },
        "id": "1upFppGI1PPm",
        "outputId": "6b3295de-f42a-4253-871e-89532e3f2d15"
      },
      "source": [
        "total_err = 0\n",
        "count = 0\n",
        "for index, row in test_df.iterrows():\n",
        "  count += 1\n",
        "  total_err += error_function_bayes(model, row['content'], row['score'])\n",
        "\n",
        "print(\"Accuracy: \" + str(1 - (total_err / count)))"
      ],
      "execution_count": 34,
      "outputs": [
        {
          "output_type": "stream",
          "text": [
            "Accuracy: 0.5117478510028654\n"
          ],
          "name": "stdout"
        }
      ]
    },
    {
      "cell_type": "code",
      "metadata": {
        "colab": {
          "base_uri": "https://localhost:8080/"
        },
        "id": "AaxTJDH42oPe",
        "outputId": "a310f120-c1f5-4c00-acac-e6368387db60"
      },
      "source": [
        "total_err = 0\n",
        "count = 0\n",
        "for index, row in test_df.iterrows():\n",
        "  count += 1\n",
        "  total_err += error_function_markov(model, row['content'], row['score'])\n",
        "\n",
        "print(\"Accuracy: \" + str(1 - (total_err / count)))"
      ],
      "execution_count": 35,
      "outputs": [
        {
          "output_type": "stream",
          "text": [
            "Accuracy: 0.6246418338108882\n"
          ],
          "name": "stdout"
        }
      ]
    },
    {
      "cell_type": "markdown",
      "metadata": {
        "id": "KHD_5UkZwlpd"
      },
      "source": [
        "### Results: \n",
        "The accuracy for Naive Bayes was 0.512.\n",
        "\n",
        "The accuracy for the Markov Model was 0.625\n",
        "\n",
        "Unsurprisingly, both models performed poorly on our dataset. This was just to get a baseline."
      ]
    },
    {
      "cell_type": "markdown",
      "metadata": {
        "id": "tE6qRiBIt0Pd"
      },
      "source": [
        "## SVM Sentiment Analysis"
      ]
    },
    {
      "cell_type": "code",
      "metadata": {
        "id": "qzyZ_9ETEvM5"
      },
      "source": [
        "def to_sentiment(rating):\n",
        "  rating = float(rating)\n",
        "  if rating < 5:\n",
        "    return \"neg\"\n",
        "  if rating >= 5 and rating <= 7:\n",
        "    return \"neu\"\n",
        "  else:\n",
        "    return \"pos\""
      ],
      "execution_count": 22,
      "outputs": []
    },
    {
      "cell_type": "code",
      "metadata": {
        "id": "CML2CMc_b83P",
        "colab": {
          "base_uri": "https://localhost:8080/",
          "height": 204
        },
        "outputId": "bf86ec57-8006-4009-bcb6-8530c6373752"
      },
      "source": [
        "svmData_raw = training_df.copy(deep=True)\n",
        "svmData_indexed = svmData_raw.reset_index()\n",
        "svmData_train = svmData_indexed.drop(columns=['reviewid', 'index'])\n",
        "svmData_train.head()"
      ],
      "execution_count": 23,
      "outputs": [
        {
          "output_type": "execute_result",
          "data": {
            "text/html": [
              "<div>\n",
              "<style scoped>\n",
              "    .dataframe tbody tr th:only-of-type {\n",
              "        vertical-align: middle;\n",
              "    }\n",
              "\n",
              "    .dataframe tbody tr th {\n",
              "        vertical-align: top;\n",
              "    }\n",
              "\n",
              "    .dataframe thead th {\n",
              "        text-align: right;\n",
              "    }\n",
              "</style>\n",
              "<table border=\"1\" class=\"dataframe\">\n",
              "  <thead>\n",
              "    <tr style=\"text-align: right;\">\n",
              "      <th></th>\n",
              "      <th>content</th>\n",
              "      <th>score</th>\n",
              "    </tr>\n",
              "  </thead>\n",
              "  <tbody>\n",
              "    <tr>\n",
              "      <th>0</th>\n",
              "      <td>So an MC who's been recording for over a decad...</td>\n",
              "      <td>1</td>\n",
              "    </tr>\n",
              "    <tr>\n",
              "      <th>1</th>\n",
              "      <td>There's been no shortage of dialogue around ho...</td>\n",
              "      <td>1</td>\n",
              "    </tr>\n",
              "    <tr>\n",
              "      <th>2</th>\n",
              "      <td>On the last day of November 2010, Bonnie \"Prin...</td>\n",
              "      <td>1</td>\n",
              "    </tr>\n",
              "    <tr>\n",
              "      <th>3</th>\n",
              "      <td>In the liner notes for O.S.T., People Under th...</td>\n",
              "      <td>1</td>\n",
              "    </tr>\n",
              "    <tr>\n",
              "      <th>4</th>\n",
              "      <td>Unlike his predecessors in the fraternal  orde...</td>\n",
              "      <td>0</td>\n",
              "    </tr>\n",
              "  </tbody>\n",
              "</table>\n",
              "</div>"
            ],
            "text/plain": [
              "                                             content  score\n",
              "0  So an MC who's been recording for over a decad...      1\n",
              "1  There's been no shortage of dialogue around ho...      1\n",
              "2  On the last day of November 2010, Bonnie \"Prin...      1\n",
              "3  In the liner notes for O.S.T., People Under th...      1\n",
              "4  Unlike his predecessors in the fraternal  orde...      0"
            ]
          },
          "metadata": {
            "tags": []
          },
          "execution_count": 23
        }
      ]
    },
    {
      "cell_type": "code",
      "metadata": {
        "id": "Zo3Q0leedJnI",
        "colab": {
          "base_uri": "https://localhost:8080/",
          "height": 204
        },
        "outputId": "13ae4c4e-4ce4-4c04-d722-8f8bfd1dad05"
      },
      "source": [
        "svmData_raw_validation = validation_df.copy(deep=True)\n",
        "svmData_indexed_validation = svmData_raw_validation.reset_index()\n",
        "svmData_validation = svmData_indexed_validation.drop(columns=['reviewid', 'index'])\n",
        "svmData_validation.head()"
      ],
      "execution_count": 24,
      "outputs": [
        {
          "output_type": "execute_result",
          "data": {
            "text/html": [
              "<div>\n",
              "<style scoped>\n",
              "    .dataframe tbody tr th:only-of-type {\n",
              "        vertical-align: middle;\n",
              "    }\n",
              "\n",
              "    .dataframe tbody tr th {\n",
              "        vertical-align: top;\n",
              "    }\n",
              "\n",
              "    .dataframe thead th {\n",
              "        text-align: right;\n",
              "    }\n",
              "</style>\n",
              "<table border=\"1\" class=\"dataframe\">\n",
              "  <thead>\n",
              "    <tr style=\"text-align: right;\">\n",
              "      <th></th>\n",
              "      <th>content</th>\n",
              "      <th>score</th>\n",
              "    </tr>\n",
              "  </thead>\n",
              "  <tbody>\n",
              "    <tr>\n",
              "      <th>0</th>\n",
              "      <td>The worst thing about the remarkable The First...</td>\n",
              "      <td>1</td>\n",
              "    </tr>\n",
              "    <tr>\n",
              "      <th>1</th>\n",
              "      <td>Try as they might, Mourn couldn’t help but sho...</td>\n",
              "      <td>0</td>\n",
              "    </tr>\n",
              "    <tr>\n",
              "      <th>2</th>\n",
              "      <td>On paper, The Seeger Sessions seems like a ter...</td>\n",
              "      <td>1</td>\n",
              "    </tr>\n",
              "    <tr>\n",
              "      <th>3</th>\n",
              "      <td>\\r\\n    Getting the full picture of Joe Willia...</td>\n",
              "      <td>1</td>\n",
              "    </tr>\n",
              "    <tr>\n",
              "      <th>4</th>\n",
              "      <td>Friends Forever isn't a metal record, but let'...</td>\n",
              "      <td>0</td>\n",
              "    </tr>\n",
              "  </tbody>\n",
              "</table>\n",
              "</div>"
            ],
            "text/plain": [
              "                                             content  score\n",
              "0  The worst thing about the remarkable The First...      1\n",
              "1  Try as they might, Mourn couldn’t help but sho...      0\n",
              "2  On paper, The Seeger Sessions seems like a ter...      1\n",
              "3  \\r\\n    Getting the full picture of Joe Willia...      1\n",
              "4  Friends Forever isn't a metal record, but let'...      0"
            ]
          },
          "metadata": {
            "tags": []
          },
          "execution_count": 24
        }
      ]
    },
    {
      "cell_type": "code",
      "metadata": {
        "colab": {
          "base_uri": "https://localhost:8080/",
          "height": 204
        },
        "id": "osSDse5FAA1F",
        "outputId": "1d4c2aa8-0e07-44e2-b3d1-6e3d3561d9aa"
      },
      "source": [
        "svmData_raw_test = test_df.copy(deep=True)\n",
        "svmData_indexed_test = svmData_raw_test.reset_index()\n",
        "svmData_test = svmData_indexed_test.drop(columns=['reviewid', 'index'])\n",
        "svmData_test.head()"
      ],
      "execution_count": 25,
      "outputs": [
        {
          "output_type": "execute_result",
          "data": {
            "text/html": [
              "<div>\n",
              "<style scoped>\n",
              "    .dataframe tbody tr th:only-of-type {\n",
              "        vertical-align: middle;\n",
              "    }\n",
              "\n",
              "    .dataframe tbody tr th {\n",
              "        vertical-align: top;\n",
              "    }\n",
              "\n",
              "    .dataframe thead th {\n",
              "        text-align: right;\n",
              "    }\n",
              "</style>\n",
              "<table border=\"1\" class=\"dataframe\">\n",
              "  <thead>\n",
              "    <tr style=\"text-align: right;\">\n",
              "      <th></th>\n",
              "      <th>content</th>\n",
              "      <th>score</th>\n",
              "    </tr>\n",
              "  </thead>\n",
              "  <tbody>\n",
              "    <tr>\n",
              "      <th>0</th>\n",
              "      <td>The hippies inspired a wholesale revision of m...</td>\n",
              "      <td>1</td>\n",
              "    </tr>\n",
              "    <tr>\n",
              "      <th>1</th>\n",
              "      <td>VHÖL are the ideal modern metal band—they fuse...</td>\n",
              "      <td>1</td>\n",
              "    </tr>\n",
              "    <tr>\n",
              "      <th>2</th>\n",
              "      <td>Sic Alps' simple garage-rock is both enticing ...</td>\n",
              "      <td>1</td>\n",
              "    </tr>\n",
              "    <tr>\n",
              "      <th>3</th>\n",
              "      <td>While it's nice to hear Mac McCaughan hearken ...</td>\n",
              "      <td>1</td>\n",
              "    </tr>\n",
              "    <tr>\n",
              "      <th>4</th>\n",
              "      <td>Stop me if this gets sappy. And it might. Beca...</td>\n",
              "      <td>1</td>\n",
              "    </tr>\n",
              "  </tbody>\n",
              "</table>\n",
              "</div>"
            ],
            "text/plain": [
              "                                             content  score\n",
              "0  The hippies inspired a wholesale revision of m...      1\n",
              "1  VHÖL are the ideal modern metal band—they fuse...      1\n",
              "2  Sic Alps' simple garage-rock is both enticing ...      1\n",
              "3  While it's nice to hear Mac McCaughan hearken ...      1\n",
              "4  Stop me if this gets sappy. And it might. Beca...      1"
            ]
          },
          "metadata": {
            "tags": []
          },
          "execution_count": 25
        }
      ]
    },
    {
      "cell_type": "code",
      "metadata": {
        "id": "frK4Fyct0k20"
      },
      "source": [
        "# Inspired from https://medium.com/@vasista/sentiment-analysis-using-svm-338d418e3ff1\n",
        "from sklearn.feature_extraction.text import TfidfVectorizer\n",
        "from sklearn import svm\n",
        "from sklearn.metrics import classification_report\n",
        "\n",
        "def svm_model(vectorizer, data):\n",
        "  train_matrix = vectorizer.fit_transform(svmData_train['content'])\n",
        "  test_matrix = vectorizer.transform(svmData_validation['content'])\n",
        "\n",
        "  classifier_rbf = svm.SVC(kernel='rbf')\n",
        "  classifier_rbf.fit(train_matrix, svmData_train['score'])\n",
        "  prediction_rbf = classifier_rbf.predict(test_matrix)\n",
        "\n",
        "  report = classification_report(svmData_validation['score'], prediction_rbf, output_dict=True)\n",
        "  print('Positive Accuracy: ', report['1']['precision'])\n",
        "  print('Neutral Accuracy: ', report['0']['precision'])\n",
        "  return report"
      ],
      "execution_count": 26,
      "outputs": []
    },
    {
      "cell_type": "markdown",
      "metadata": {
        "id": "wrP5Qe1i9-NF"
      },
      "source": [
        "### Hyperparameter Tuning"
      ]
    },
    {
      "cell_type": "code",
      "metadata": {
        "colab": {
          "base_uri": "https://localhost:8080/"
        },
        "id": "BgSWr0Wd_EOD",
        "outputId": "b4814a09-a445-4419-b523-c9e6a43bcac0"
      },
      "source": [
        "v1 = TfidfVectorizer(min_df = 5, max_df = 0.8, sublinear_tf = True, use_idf = True)\n",
        "v2 = TfidfVectorizer(min_df = 5, max_df = 0.8, sublinear_tf = False, use_idf = True)\n",
        "v3 = TfidfVectorizer(min_df = 5, max_df = 0.8, sublinear_tf = True, use_idf = False)\n",
        "v4 = TfidfVectorizer(min_df = 5, max_df = 0.8, sublinear_tf = False, use_idf = False)\n",
        "r1 = svm_model(v1, svmData_validation['content'])\n",
        "r2 = svm_model(v2, svmData_validation['content'])\n",
        "r3 = svm_model(v3, svmData_validation['content'])\n",
        "r4 = svm_model(v4, svmData_validation['content'])"
      ],
      "execution_count": 28,
      "outputs": [
        {
          "output_type": "stream",
          "text": [
            "Positive Accuracy:  0.7201336675020885\n",
            "Neutral Accuracy:  0.7112952464020933\n",
            "Positive Accuracy:  0.7077189939288812\n",
            "Neutral Accuracy:  0.6970474967907574\n",
            "Positive Accuracy:  0.6979969183359014\n",
            "Neutral Accuracy:  0.718065693430657\n",
            "Positive Accuracy:  0.6866614048934491\n",
            "Neutral Accuracy:  0.7058029689608637\n"
          ],
          "name": "stdout"
        }
      ]
    },
    {
      "cell_type": "markdown",
      "metadata": {
        "id": "gN7qlGPh963T"
      },
      "source": [
        "From these results, it is evident that sublinear=True and use_idf=True are the ideal settings for these two parameters. "
      ]
    },
    {
      "cell_type": "code",
      "metadata": {
        "colab": {
          "base_uri": "https://localhost:8080/"
        },
        "id": "ONaCTc7Y-UX_",
        "outputId": "c111687f-7587-459b-af3d-5de41b854d65"
      },
      "source": [
        "v5 = TfidfVectorizer(min_df = 5, max_df = 0.9, sublinear_tf = True, use_idf = True)\n",
        "v6 = TfidfVectorizer(min_df = 5, max_df = 0.7, sublinear_tf = True, use_idf = True)\n",
        "r5 = svm_model(v5, svmData_validation['content'])\n",
        "r6 = svm_model(v6, svmData_validation['content'])"
      ],
      "execution_count": 29,
      "outputs": [
        {
          "output_type": "stream",
          "text": [
            "Positive Accuracy:  0.7226890756302521\n",
            "Neutral Accuracy:  0.711304347826087\n",
            "Positive Accuracy:  0.7265100671140939\n",
            "Neutral Accuracy:  0.7136640557006092\n"
          ],
          "name": "stdout"
        }
      ]
    },
    {
      "cell_type": "markdown",
      "metadata": {
        "id": "bf6DmLBY-m37"
      },
      "source": [
        "From these results, it is evident that 0.7 is the ideal setting for the max_df parameter. "
      ]
    },
    {
      "cell_type": "code",
      "metadata": {
        "colab": {
          "base_uri": "https://localhost:8080/"
        },
        "id": "94H-odUB-vKB",
        "outputId": "3914f517-169f-4dfd-f9ee-a63419799bd7"
      },
      "source": [
        "v7 = TfidfVectorizer(min_df = 4, max_df = 0.7, sublinear_tf = True, use_idf = True)\n",
        "v8 = TfidfVectorizer(min_df = 6, max_df = 0.7, sublinear_tf = True, use_idf = True)\n",
        "r7 = svm_model(v7, svmData_validation['content'])\n",
        "r8 = svm_model(v8, svmData_validation['content'])"
      ],
      "execution_count": 30,
      "outputs": [
        {
          "output_type": "stream",
          "text": [
            "Positive Accuracy:  0.7264309764309764\n",
            "Neutral Accuracy:  0.712858384013901\n",
            "Positive Accuracy:  0.7272727272727273\n",
            "Neutral Accuracy:  0.7154081187254474\n"
          ],
          "name": "stdout"
        }
      ]
    },
    {
      "cell_type": "markdown",
      "metadata": {
        "id": "DuI5CmhG_Dr6"
      },
      "source": [
        "From these results, its is evident that 6 is the ideal setting for the min_df parameter. "
      ]
    },
    {
      "cell_type": "markdown",
      "metadata": {
        "id": "RKbYtjI__NvB"
      },
      "source": [
        "After hyperparameter tuning, the most optimal parameters are the following: \n",
        "\n",
        "  TfidfVectorizer(min_df = 6,\n",
        "                               max_df = 0.7,\n",
        "                               sublinear_tf = True,\n",
        "                               use_idf = True)"
      ]
    },
    {
      "cell_type": "code",
      "metadata": {
        "colab": {
          "base_uri": "https://localhost:8080/"
        },
        "id": "p7EXet5vA6WY",
        "outputId": "7cc18e6f-e993-49e0-af54-e78875734ae9"
      },
      "source": [
        "optimal_vectorizer = TfidfVectorizer(min_df = 6, max_df = 0.7, sublinear_tf = True, use_idf = True)\n",
        "r_optimal = svm_model(optimal_vectorizer, svmData_validation['content'])"
      ],
      "execution_count": 31,
      "outputs": [
        {
          "output_type": "stream",
          "text": [
            "Positive Accuracy:  0.7272727272727273\n",
            "Neutral Accuracy:  0.7154081187254474\n"
          ],
          "name": "stdout"
        }
      ]
    },
    {
      "cell_type": "markdown",
      "metadata": {
        "id": "ecVGItec8K4b"
      },
      "source": [
        "### Test Results\n",
        "After tuning the hyperparameters, we concluded the most optimal parameters are min_df = 5, max_df = 0.7, sublinear_tf = True, use_idf = True, and lowercase=True. \n",
        "\n",
        "We achieved the following accuracies: \n",
        "\n",
        "\n",
        "Positive Accuracy:  0.727\n",
        "\n",
        "Neutral Accuracy:  0.715"
      ]
    },
    {
      "cell_type": "code",
      "metadata": {
        "colab": {
          "base_uri": "https://localhost:8080/"
        },
        "id": "AgqGR52EI1Zc",
        "outputId": "3d7a1529-974e-4c2b-f049-c84c33baf035"
      },
      "source": [
        "r_optimal = svm_model(optimal_vectorizer, svmData_test['content'])"
      ],
      "execution_count": 33,
      "outputs": [
        {
          "output_type": "stream",
          "text": [
            "Positive Accuracy:  0.7272727272727273\n",
            "Neutral Accuracy:  0.7154081187254474\n"
          ],
          "name": "stdout"
        }
      ]
    },
    {
      "cell_type": "markdown",
      "metadata": {
        "id": "ck3DTqnFhPAR"
      },
      "source": [
        "The SVM performed significantly better than the Naive Bayes & Markov Model. With an average accuracy of 0.721 vs 0.512 and 0.625 for Naive Bayes & Markov Model, respectively."
      ]
    },
    {
      "cell_type": "markdown",
      "metadata": {
        "id": "jaeRiwYpDWpQ"
      },
      "source": [
        "## LSTM\n",
        "We tried to implement an LSTM based of this article: \n",
        "https://towardsdatascience.com/sentiment-analysis-using-lstm-step-by-step-50d074f09948\n",
        "\n",
        "However, it was too slow to run through our data set. \n"
      ]
    },
    {
      "cell_type": "code",
      "metadata": {
        "id": "b83k0XyiDZFI"
      },
      "source": [
        "import io\n",
        "import torch\n",
        "import torch.nn as nn\n",
        "import torch.nn.functional as F\n",
        "from nltk.corpus import stopwords\n",
        "from collections import Counter\n",
        "import string\n",
        "import re\n",
        "from tqdm import tqdm\n",
        "import matplotlib.pyplot as plt\n",
        "from torch.utils.data import TensorDataset, DataLoader\n",
        "from sklearn.model_selection import train_test_split\n",
        "\n",
        "\n",
        "raw_df = pd.read_csv('data.csv')\n",
        "\n",
        "raw_df = raw_df.dropna()\n",
        "raw_df['content'] = raw_df['content'].str.lower()\n",
        "from string import punctuation\n",
        "\n",
        "raw_df['content'] = raw_df['content'].str.replace('[{}]'.format(string.punctuation), '')\n",
        "\n",
        "review_list = raw_df['content'].tolist()\n",
        "\n",
        "train_on_gpu = False\n",
        "\n",
        "\n",
        "# tokenize labels\n",
        "labels = raw_df['score'].round()\n",
        "encoded_labels = labels.values\n",
        "\n",
        "# tokenize\n",
        "from collections import Counter\n",
        "\n",
        "print(len(review_list))\n",
        "all_words = ' '.join(review_list)\n",
        "words = all_words.split()\n",
        "\n",
        "count_words = Counter(words)\n",
        "\n",
        "total_words = len(words)\n",
        "sorted_words = count_words.most_common(total_words)\n",
        "print(sorted_words[:10])\n",
        "vocab_to_int = {w:i+1 for i, (w,c) in enumerate(sorted_words)}\n",
        "\n",
        "# create encoding of reviews\n",
        "reviews_int = []\n",
        "for review in review_list:\n",
        "    r = [vocab_to_int[w] for w in review.split()]\n",
        "    reviews_int.append(r)\n",
        "print(reviews_int[0:3])\n",
        "print(review_list[0])\n",
        "\n",
        "\n",
        "def pad_features(reviews_int, seq_length):\n",
        "    features = np.zeros((len(reviews_int), seq_length), dtype=int)\n",
        "\n",
        "    for i, review in enumerate(reviews_int):\n",
        "        review_len = len(review)\n",
        "\n",
        "        if review_len <= seq_length:\n",
        "            zeroes = list(np.zeros(seq_length - review_len))\n",
        "            new = zeroes + review\n",
        "        elif review_len > seq_length:\n",
        "            new = review[0:seq_length]\n",
        "\n",
        "        features[i, :] = np.array(new)\n",
        "\n",
        "    return features\n",
        "\n",
        "features = pad_features(reviews_int, 200)\n",
        "\n",
        "split_frac = 0.8\n",
        "len_feat = len(features)\n",
        "train_x = features[0:int(split_frac*len_feat)]\n",
        "train_y = encoded_labels[0:int(split_frac*len_feat)]\n",
        "remaining_x = features[int(split_frac*len_feat):]\n",
        "remaining_y = encoded_labels[int(split_frac*len_feat):]\n",
        "valid_x = remaining_x[0:int(len(remaining_x)*0.5)]\n",
        "valid_y = remaining_y[0:int(len(remaining_y)*0.5)]\n",
        "test_x = remaining_x[int(len(remaining_x)*0.5):]\n",
        "test_y = remaining_y[int(len(remaining_y)*0.5):]\n",
        "\n",
        "train_data = TensorDataset(torch.from_numpy(train_x), torch.from_numpy(train_y))\n",
        "valid_data = TensorDataset(torch.from_numpy(valid_x), torch.from_numpy(valid_y))\n",
        "x = torch.from_numpy(test_x)\n",
        "y = torch.from_numpy(test_y)\n",
        "batch_size = 50\n",
        "train_loader = DataLoader(train_data, shuffle=True, batch_size=batch_size)\n",
        "valid_loader = DataLoader(valid_data, shuffle=True, batch_size=batch_size)\n",
        "\n",
        "\n",
        "class SentimentLSTM(nn.Module):\n",
        "    \"\"\"\n",
        "    The RNN model that will be used to perform Sentiment analysis.\n",
        "    \"\"\"\n",
        "\n",
        "    def __init__(self, vocab_size, output_size, embedding_dim, hidden_dim, n_layers, drop_prob=0.5):\n",
        "        \"\"\"\n",
        "        Initialize the model by setting up the layers.\n",
        "        \"\"\"\n",
        "        super().__init__()\n",
        "\n",
        "        self.output_size = output_size\n",
        "        self.n_layers = n_layers\n",
        "        self.hidden_dim = hidden_dim\n",
        "\n",
        "        # embedding and LSTM layers\n",
        "        self.embedding = nn.Embedding(vocab_size, embedding_dim)\n",
        "        self.lstm = nn.LSTM(embedding_dim, hidden_dim, n_layers,\n",
        "                            dropout=drop_prob, batch_first=True)\n",
        "\n",
        "        # dropout layer\n",
        "        self.dropout = nn.Dropout(0.3)\n",
        "\n",
        "        # linear and sigmoid layers\n",
        "        self.fc = nn.Linear(hidden_dim, output_size)\n",
        "        self.sig = nn.Sigmoid()\n",
        "\n",
        "    def forward(self, x, hidden):\n",
        "        \"\"\"\n",
        "        Perform a forward pass of our model on some input and hidden state.\n",
        "        \"\"\"\n",
        "        batch_size = x.size(0)\n",
        "\n",
        "        # embeddings and lstm_out\n",
        "        embeds = self.embedding(x)\n",
        "        lstm_out, hidden = self.lstm(embeds, hidden)\n",
        "\n",
        "        # stack up lstm outputs\n",
        "        lstm_out = lstm_out.contiguous().view(-1, self.hidden_dim)\n",
        "\n",
        "        # dropout and fully-connected layer\n",
        "        out = self.dropout(lstm_out)\n",
        "        out = self.fc(out)\n",
        "        # sigmoid function\n",
        "        sig_out = self.sig(out)\n",
        "\n",
        "        # reshape to be batch_size first\n",
        "        sig_out = sig_out.view(batch_size, -1)\n",
        "        sig_out = sig_out[:, -1]  # get last batch of labels\n",
        "\n",
        "        # return last sigmoid output and hidden state\n",
        "        return sig_out, hidden\n",
        "\n",
        "    def init_hidden(self, batch_size):\n",
        "        ''' Initializes hidden state '''\n",
        "        # Create two new tensors with sizes n_layers x batch_size x hidden_dim,\n",
        "        # initialized to zero, for hidden state and cell state of LSTM\n",
        "        weight = next(self.parameters()).data\n",
        "        if (train_on_gpu):\n",
        "            hidden = (weight.new(self.n_layers, batch_size, self.hidden_dim).zero_().cuda(),\n",
        "                      weight.new(self.n_layers, batch_size, self.hidden_dim).zero_().cuda())\n",
        "        else:\n",
        "            hidden = (weight.new(self.n_layers, batch_size, self.hidden_dim).zero_(),\n",
        "                      weight.new(self.n_layers, batch_size, self.hidden_dim).zero_())\n",
        "\n",
        "        return hidden\n",
        "\n",
        "# Instantiate the model w/ hyperparams\n",
        "vocab_size = len(vocab_to_int)+1 # +1 for the 0 padding\n",
        "output_size = 1\n",
        "embedding_dim = 400\n",
        "hidden_dim = 256\n",
        "n_layers = 2\n",
        "net = SentimentLSTM(vocab_size, output_size, embedding_dim, hidden_dim, n_layers)\n",
        "print(net)\n",
        "\n",
        "\n",
        "# loss and optimization functions\n",
        "lr=0.001\n",
        "\n",
        "criterion = nn.BCELoss()\n",
        "optimizer = torch.optim.Adam(net.parameters(), lr=lr)\n",
        "\n",
        "\n",
        "# training params\n",
        "\n",
        "epochs = 4 # 3-4 is approx where I noticed the validation loss stop decreasing\n",
        "\n",
        "counter = 0\n",
        "print_every = 1\n",
        "clip=5 # gradient clipping\n",
        "\n",
        "# move model to GPU, if available\n",
        "if(train_on_gpu):\n",
        "    net.cuda()\n",
        "\n",
        "net.train()\n",
        "# train for some number of epochs\n",
        "for e in range(epochs):\n",
        "    # initialize hidden state\n",
        "    h = net.init_hidden(batch_size)\n",
        "\n",
        "    # batch loop\n",
        "    for inputs, labels in train_loader:\n",
        "        counter += 1\n",
        "\n",
        "        if(train_on_gpu):\n",
        "            inputs, labels = inputs.cuda(), labels.cuda()\n",
        "\n",
        "        # Creating new variables for the hidden state, otherwise\n",
        "        # we'd backprop through the entire training history\n",
        "        h = tuple([each.data for each in h])\n",
        "\n",
        "        # zero accumulated gradients\n",
        "        net.zero_grad()\n",
        "\n",
        "        # get the output from the model\n",
        "        inputs = inputs.type(torch.LongTensor)\n",
        "        output, h = net(inputs, h)\n",
        "\n",
        "        # calculate the loss and perform backprop\n",
        "        loss = criterion(output.squeeze(), labels.float())\n",
        "        loss.backward()\n",
        "        # `clip_grad_norm` helps prevent the exploding gradient problem in RNNs / LSTMs.\n",
        "        nn.utils.clip_grad_norm_(net.parameters(), clip)\n",
        "        optimizer.step()\n",
        "\n",
        "        print(counter)\n",
        "        # loss stats\n",
        "        if counter % print_every == 0:\n",
        "            # Get validation loss\n",
        "            val_h = net.init_hidden(batch_size)\n",
        "            val_losses = []\n",
        "            net.eval()\n",
        "            for inputs, labels in valid_loader:\n",
        "\n",
        "                # Creating new variables for the hidden state, otherwise\n",
        "                # we'd backprop through the entire training history\n",
        "                val_h = tuple([each.data for each in val_h])\n",
        "\n",
        "                if(train_on_gpu):\n",
        "                    inputs, labels = inputs.cuda(), labels.cuda()\n",
        "\n",
        "                inputs = inputs.type(torch.LongTensor)\n",
        "                output, val_h = net(inputs, val_h)\n",
        "                val_loss = criterion(output.squeeze(), labels.float())\n",
        "\n",
        "                val_losses.append(val_loss.item())\n",
        "\n",
        "            net.train()\n",
        "            print(\"Epoch: {}/{}...\".format(e+1, epochs),\n",
        "                  \"Step: {}...\".format(counter),\n",
        "                  \"Loss: {:.6f}...\".format(loss.item()),\n",
        "                  \"Val Loss: {:.6f}\".format(np.mean(val_losses)))"
      ],
      "execution_count": null,
      "outputs": []
    }
  ]
}